{
 "cells": [
  {
   "cell_type": "markdown",
   "id": "c4589fb3-b72b-4cc1-a0c9-987bba13ae8a",
   "metadata": {},
   "source": [
    "# Data Science Tools and Ecosystem"
   ]
  },
  {
   "cell_type": "markdown",
   "id": "9460c2dd-2ace-4b3d-a303-9f0a19903133",
   "metadata": {},
   "source": [
    "In this notebook, Data Science Tools and Ecosystem are summarized."
   ]
  },
  {
   "cell_type": "markdown",
   "id": "77eb95ed-e49f-4c1b-819e-e2e5d0ee0b56",
   "metadata": {},
   "source": [
    "## Some of the popular languages that Data Scientists use are:\n",
    "\n",
    "1. **Python**: Python is one of the most widely used programming languages in the field of data science. Its simplicity, extensive libraries, and community support make it a top choice for tasks ranging from data manipulation and analysis to machine learning and visualization.\n",
    "\n",
    "2. **R**: R is a language specifically designed for statistical computing and graphics. It has a rich ecosystem of packages that cater to various statistical and data analysis needs, making it a favorite among statisticians and data analysts.\n",
    "\n",
    "3. **Julia**: Julia is a relatively new programming language that aims to combine the best aspects of performance and ease of use. It's gaining traction in the data science community for its speed and versatility, especially for tasks that require heavy numerical computations.\n",
    "\n",
    "4. **SQL (Structured Query Language)**: While not a general-purpose programming language, SQL is essential for data manipulation and management. Data Scientists often use SQL to query databases, perform aggregations, and extract insights from large datasets.\n",
    "\n",
    "5. **Scala**: Scala is a language that runs on the Java Virtual Machine (JVM) and is often used with Apache Spark, a powerful framework for big data processing. Scala's functional programming features and compatibility with Java libraries make it useful for large-scale data processing tasks.\n",
    "\n"
   ]
  },
  {
   "cell_type": "markdown",
   "id": "4a31cc56-3df4-4cd4-bc14-8228a12555ba",
   "metadata": {},
   "source": [
    "## Some of the commonly used libraries used by Data Scientists include:\n",
    "\n",
    "1. **NumPy**: A fundamental package for numerical computations in Python. It provides support for arrays, matrices, and mathematical functions, making it a cornerstone for scientific computing.\n",
    "\n",
    "2. **Pandas**: A powerful library for data manipulation and analysis. It introduces data structures like DataFrame and Series that simplify handling and exploring tabular data.\n",
    "\n",
    "3. **Matplotlib**: A widely-used plotting library that allows you to create various types of visualizations, such as line plots, scatter plots, histograms, and more, to effectively communicate insights from data.\n",
    "\n",
    "4. **Seaborn**: Built on top of Matplotlib, Seaborn provides a higher-level interface for creating attractive and informative statistical graphics, making it particularly useful for data visualization.\n",
    "\n",
    "5. **Scikit-learn**: A machine learning library that offers a broad range of tools for various machine learning tasks, including classification, regression, clustering, dimensionality reduction, and more.\n",
    "\n",
    "6. **TensorFlow**: An open-source deep learning framework developed by Google. It provides a comprehensive ecosystem for building and training neural networks, suitable for both research and production.\n",
    "\n",
    "7. **PyTorch**: Another popular deep learning framework, known for its dynamic computation graph and user-friendly interface. PyTorch is widely used in both academia and industry for developing neural network models.\n"
   ]
  },
  {
   "cell_type": "markdown",
   "id": "3f619b25-18c8-4289-8d62-9a74d90e5d36",
   "metadata": {},
   "source": [
    "| Data Science Tools |\n",
    "|--------------------|\n",
    "| Jupyter Notebook   |\n",
    "| RStudio            |\n",
    "| VS Code + Extensions|\n"
   ]
  },
  {
   "cell_type": "markdown",
   "id": "26841d37-2e14-4239-9e3a-4bae9b31c38e",
   "metadata": {},
   "source": [
    "### Below are a few examples of evaluating arithmetic expressions in Python.\n",
    "\n",
    "Arithmetic expressions involve mathematical operations like addition, subtraction, multiplication, and division. Python allows you to perform these operations using standard operators. \n",
    "\n",
    "\n",
    "\n"
   ]
  },
  {
   "cell_type": "code",
   "execution_count": 5,
   "id": "e3fd2086-eabf-4ada-ada4-de3dc06d47ee",
   "metadata": {
    "tags": []
   },
   "outputs": [
    {
     "name": "stdout",
     "output_type": "stream",
     "text": [
      "17\n"
     ]
    }
   ],
   "source": [
    "# This is a simple arithmetic expression to multiply then add integers.\n",
    "result = (3 * 4) + 5\n",
    "print(result)  # Expected Output: 17\n"
   ]
  },
  {
   "cell_type": "code",
   "execution_count": 6,
   "id": "ffbad9c6-3e1c-41ae-98b2-1a439cd72f7a",
   "metadata": {
    "tags": []
   },
   "outputs": [
    {
     "name": "stdout",
     "output_type": "stream",
     "text": [
      "3.3333333333333335\n"
     ]
    }
   ],
   "source": [
    "# This will convert 200 minutes to hours by dividing by 60.\n",
    "minutes = 200\n",
    "hours = minutes / 60\n",
    "print(hours) \n"
   ]
  },
  {
   "cell_type": "markdown",
   "id": "d20bbf54-7696-40ed-b498-4e57983efc01",
   "metadata": {},
   "source": [
    "**Objectives:**\n",
    "\n",
    "- List popular languages for Data Science.\n",
    "- Provide examples of evaluating arithmetic expressions in Python.\n",
    "- Demonstrate conversion from minutes to hours using Python.\n",
    "- Introduce common Data Science libraries and tools.\n",
    "- Showcase basic code execution in Jupyter Notebook.\n"
   ]
  },
  {
   "cell_type": "markdown",
   "id": "ec587ff8-888e-47cc-81a8-00b3fb50fc85",
   "metadata": {},
   "source": [
    "## Author\n",
    "Fatima Hammad\n"
   ]
  },
  {
   "cell_type": "code",
   "execution_count": null,
   "id": "ccfffad6-67a9-47d6-842f-0921d026267a",
   "metadata": {},
   "outputs": [],
   "source": []
  }
 ],
 "metadata": {
  "kernelspec": {
   "display_name": "Python",
   "language": "python",
   "name": "conda-env-python-py"
  },
  "language_info": {
   "codemirror_mode": {
    "name": "ipython",
    "version": 3
   },
   "file_extension": ".py",
   "mimetype": "text/x-python",
   "name": "python",
   "nbconvert_exporter": "python",
   "pygments_lexer": "ipython3",
   "version": "3.7.12"
  }
 },
 "nbformat": 4,
 "nbformat_minor": 5
}
